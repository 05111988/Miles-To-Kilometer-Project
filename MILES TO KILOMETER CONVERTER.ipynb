{
 "cells": [
  {
   "cell_type": "code",
   "execution_count": null,
   "id": "aa9007a3-80b3-4343-a3c5-75609dc43abe",
   "metadata": {},
   "outputs": [],
   "source": [
    "from tkinter import *\n",
    "\n",
    "\n",
    "def miles_to_km():\n",
    "    miles = float(miles_input.get())\n",
    "    km = miles * 1.609\n",
    "    kilometer_result_label.config(text=f\"{km}\")\n",
    "\n",
    "window = Tk()\n",
    "window.title(\"Miles to kilometer converter\")\n",
    "window.config(padx=20, pady=20)\n",
    "\n",
    "miles_input = Entry(width = 7)\n",
    "miles_input.grid(column = 1,row = 0)\n",
    "\n",
    "\n",
    "miles_label = Label(text = \"Miles\")\n",
    "miles_label.grid(column = 2,row = 0)\n",
    "\n",
    "is_equal_label = Label(text = \"is equal to\")\n",
    "is_equal_label.grid(column = 0,row = 1)\n",
    "\n",
    "kilometer_result_label = Label(text=\"0\")\n",
    "kilometer_result_label.grid(column = 1,row = 1)\n",
    "\n",
    "kilometer_label = Label(text = \"Km\")\n",
    "kilometer_label.grid(column = 2,row = 1)\n",
    "\n",
    "calculate_button = Button(text = \"Calculate\", command = miles_to_km)\n",
    "calculate_button.grid(column = 1,row = 2)\n",
    "\n",
    "\n",
    "\n",
    "window.mainloop()"
   ]
  },
  {
   "cell_type": "code",
   "execution_count": null,
   "id": "79a8b1b0-4207-46cf-a16a-879bce50ff2b",
   "metadata": {},
   "outputs": [],
   "source": []
  }
 ],
 "metadata": {
  "kernelspec": {
   "display_name": "Python 3 (ipykernel)",
   "language": "python",
   "name": "python3"
  },
  "language_info": {
   "codemirror_mode": {
    "name": "ipython",
    "version": 3
   },
   "file_extension": ".py",
   "mimetype": "text/x-python",
   "name": "python",
   "nbconvert_exporter": "python",
   "pygments_lexer": "ipython3",
   "version": "3.13.3"
  }
 },
 "nbformat": 4,
 "nbformat_minor": 5
}
